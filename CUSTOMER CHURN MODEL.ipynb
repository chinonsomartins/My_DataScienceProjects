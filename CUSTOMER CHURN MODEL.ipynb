{
 "cells": [
  {
   "cell_type": "markdown",
   "id": "313b7969-9691-452e-9914-aa3bd5f1e3f3",
   "metadata": {},
   "source": [
    "# PREPROCESSING"
   ]
  },
  {
   "cell_type": "markdown",
   "id": "f36d1851-b03d-4f3b-93e2-b3ba022df7c4",
   "metadata": {},
   "source": [
    "## Import Libraries"
   ]
  },
  {
   "cell_type": "code",
   "execution_count": 1,
   "id": "fa61a595-2205-4b0d-b314-17b0df2a6c8c",
   "metadata": {},
   "outputs": [],
   "source": [
    "#data cleaning and EDA libraries\n",
    "import pandas as pd\n",
    "import matplotlib.pyplot as plt\n",
    "import numpy as np\n",
    "import seaborn as sns\n",
    "\n",
    "# model building and optimizing model\n",
    "from sklearn.model_selection import train_test_split\n",
    "\n",
    "\n",
    "\n",
    "import warnings\n",
    "warnings.simplefilter(action=\"ignore\", category=FutureWarning)"
   ]
  },
  {
   "cell_type": "code",
   "execution_count": 2,
   "id": "5739f9ad-f574-4892-ac6a-e7c430b94528",
   "metadata": {},
   "outputs": [
    {
     "name": "stdout",
     "output_type": "stream",
     "text": [
      "(64374, 11)\n"
     ]
    },
    {
     "data": {
      "text/html": [
       "<div>\n",
       "<style scoped>\n",
       "    .dataframe tbody tr th:only-of-type {\n",
       "        vertical-align: middle;\n",
       "    }\n",
       "\n",
       "    .dataframe tbody tr th {\n",
       "        vertical-align: top;\n",
       "    }\n",
       "\n",
       "    .dataframe thead th {\n",
       "        text-align: right;\n",
       "    }\n",
       "</style>\n",
       "<table border=\"1\" class=\"dataframe\">\n",
       "  <thead>\n",
       "    <tr style=\"text-align: right;\">\n",
       "      <th></th>\n",
       "      <th>Age</th>\n",
       "      <th>Gender</th>\n",
       "      <th>Tenure</th>\n",
       "      <th>Usage Frequency</th>\n",
       "      <th>Support Calls</th>\n",
       "      <th>Payment Delay</th>\n",
       "      <th>Subscription Type</th>\n",
       "      <th>Contract Length</th>\n",
       "      <th>Total Spend</th>\n",
       "      <th>Last Interaction</th>\n",
       "      <th>Churn</th>\n",
       "    </tr>\n",
       "    <tr>\n",
       "      <th>CustomerID</th>\n",
       "      <th></th>\n",
       "      <th></th>\n",
       "      <th></th>\n",
       "      <th></th>\n",
       "      <th></th>\n",
       "      <th></th>\n",
       "      <th></th>\n",
       "      <th></th>\n",
       "      <th></th>\n",
       "      <th></th>\n",
       "      <th></th>\n",
       "    </tr>\n",
       "  </thead>\n",
       "  <tbody>\n",
       "    <tr>\n",
       "      <th>1</th>\n",
       "      <td>22</td>\n",
       "      <td>Female</td>\n",
       "      <td>25</td>\n",
       "      <td>14</td>\n",
       "      <td>4</td>\n",
       "      <td>27</td>\n",
       "      <td>Basic</td>\n",
       "      <td>Monthly</td>\n",
       "      <td>598</td>\n",
       "      <td>9</td>\n",
       "      <td>1</td>\n",
       "    </tr>\n",
       "    <tr>\n",
       "      <th>2</th>\n",
       "      <td>41</td>\n",
       "      <td>Female</td>\n",
       "      <td>28</td>\n",
       "      <td>28</td>\n",
       "      <td>7</td>\n",
       "      <td>13</td>\n",
       "      <td>Standard</td>\n",
       "      <td>Monthly</td>\n",
       "      <td>584</td>\n",
       "      <td>20</td>\n",
       "      <td>0</td>\n",
       "    </tr>\n",
       "    <tr>\n",
       "      <th>3</th>\n",
       "      <td>47</td>\n",
       "      <td>Male</td>\n",
       "      <td>27</td>\n",
       "      <td>10</td>\n",
       "      <td>2</td>\n",
       "      <td>29</td>\n",
       "      <td>Premium</td>\n",
       "      <td>Annual</td>\n",
       "      <td>757</td>\n",
       "      <td>21</td>\n",
       "      <td>0</td>\n",
       "    </tr>\n",
       "    <tr>\n",
       "      <th>4</th>\n",
       "      <td>35</td>\n",
       "      <td>Male</td>\n",
       "      <td>9</td>\n",
       "      <td>12</td>\n",
       "      <td>5</td>\n",
       "      <td>17</td>\n",
       "      <td>Premium</td>\n",
       "      <td>Quarterly</td>\n",
       "      <td>232</td>\n",
       "      <td>18</td>\n",
       "      <td>0</td>\n",
       "    </tr>\n",
       "    <tr>\n",
       "      <th>5</th>\n",
       "      <td>53</td>\n",
       "      <td>Female</td>\n",
       "      <td>58</td>\n",
       "      <td>24</td>\n",
       "      <td>9</td>\n",
       "      <td>2</td>\n",
       "      <td>Standard</td>\n",
       "      <td>Annual</td>\n",
       "      <td>533</td>\n",
       "      <td>18</td>\n",
       "      <td>0</td>\n",
       "    </tr>\n",
       "  </tbody>\n",
       "</table>\n",
       "</div>"
      ],
      "text/plain": [
       "            Age  Gender  Tenure  Usage Frequency  Support Calls  \\\n",
       "CustomerID                                                        \n",
       "1            22  Female      25               14              4   \n",
       "2            41  Female      28               28              7   \n",
       "3            47    Male      27               10              2   \n",
       "4            35    Male       9               12              5   \n",
       "5            53  Female      58               24              9   \n",
       "\n",
       "            Payment Delay Subscription Type Contract Length  Total Spend  \\\n",
       "CustomerID                                                                 \n",
       "1                      27             Basic         Monthly          598   \n",
       "2                      13          Standard         Monthly          584   \n",
       "3                      29           Premium          Annual          757   \n",
       "4                      17           Premium       Quarterly          232   \n",
       "5                       2          Standard          Annual          533   \n",
       "\n",
       "            Last Interaction  Churn  \n",
       "CustomerID                           \n",
       "1                          9      1  \n",
       "2                         20      0  \n",
       "3                         21      0  \n",
       "4                         18      0  \n",
       "5                         18      0  "
      ]
     },
     "execution_count": 2,
     "metadata": {},
     "output_type": "execute_result"
    }
   ],
   "source": [
    "# read csv file into dataframe\n",
    "df = pd.read_csv(\"MY DATASETS/customer_churn_dataset-testing-master.csv\")\n",
    "# set index with CustomerID\n",
    "df = df.set_index(\"CustomerID\")\n",
    "print(df.shape)\n",
    "df.head()"
   ]
  },
  {
   "cell_type": "code",
   "execution_count": 3,
   "id": "c119c28f-3c1e-4a42-8e0d-dcc72b1fef07",
   "metadata": {},
   "outputs": [
    {
     "name": "stdout",
     "output_type": "stream",
     "text": [
      "<class 'pandas.core.frame.DataFrame'>\n",
      "Index: 64374 entries, 1 to 64374\n",
      "Data columns (total 11 columns):\n",
      " #   Column             Non-Null Count  Dtype \n",
      "---  ------             --------------  ----- \n",
      " 0   Age                64374 non-null  int64 \n",
      " 1   Gender             64374 non-null  object\n",
      " 2   Tenure             64374 non-null  int64 \n",
      " 3   Usage Frequency    64374 non-null  int64 \n",
      " 4   Support Calls      64374 non-null  int64 \n",
      " 5   Payment Delay      64374 non-null  int64 \n",
      " 6   Subscription Type  64374 non-null  object\n",
      " 7   Contract Length    64374 non-null  object\n",
      " 8   Total Spend        64374 non-null  int64 \n",
      " 9   Last Interaction   64374 non-null  int64 \n",
      " 10  Churn              64374 non-null  int64 \n",
      "dtypes: int64(8), object(3)\n",
      "memory usage: 5.9+ MB\n"
     ]
    }
   ],
   "source": [
    "df.info()"
   ]
  },
  {
   "cell_type": "code",
   "execution_count": 4,
   "id": "ca56ad5f-c5a1-41f0-8dbf-ea0ee03f4c31",
   "metadata": {},
   "outputs": [
    {
     "data": {
      "text/plain": [
       "Age                   48\n",
       "Gender                 2\n",
       "Tenure                60\n",
       "Usage Frequency       30\n",
       "Support Calls         11\n",
       "Payment Delay         31\n",
       "Subscription Type      3\n",
       "Contract Length        3\n",
       "Total Spend          901\n",
       "Last Interaction      30\n",
       "Churn                  2\n",
       "dtype: int64"
      ]
     },
     "execution_count": 4,
     "metadata": {},
     "output_type": "execute_result"
    }
   ],
   "source": [
    "df.nunique()"
   ]
  },
  {
   "cell_type": "code",
   "execution_count": 5,
   "id": "c5dc5e7b-87a3-4e39-9974-333112b54977",
   "metadata": {},
   "outputs": [
    {
     "data": {
      "text/plain": [
       "Age                  0\n",
       "Gender               0\n",
       "Tenure               0\n",
       "Usage Frequency      0\n",
       "Support Calls        0\n",
       "Payment Delay        0\n",
       "Subscription Type    0\n",
       "Contract Length      0\n",
       "Total Spend          0\n",
       "Last Interaction     0\n",
       "Churn                0\n",
       "dtype: int64"
      ]
     },
     "execution_count": 5,
     "metadata": {},
     "output_type": "execute_result"
    }
   ],
   "source": [
    "df.isnull().sum()"
   ]
  },
  {
   "cell_type": "markdown",
   "id": "ab849388-4190-47eb-bf9b-0417a8c7ca22",
   "metadata": {},
   "source": [
    "#### Initial Data Overview:\n",
    "\n",
    "The dataset contains 64,374 rows and 12 columns.\n",
    "\n",
    "No missing or null values were found, so minimal data cleaning is required.\n",
    "\n",
    "Identified CustomerID as a high-cardinality feature, which does not contribute predictive value — it was therefore used as the index for the DataFrame."
   ]
  },
  {
   "cell_type": "code",
   "execution_count": 6,
   "id": "8f1cdb8a-b683-4ce3-92f5-6d1ed44ef193",
   "metadata": {},
   "outputs": [
    {
     "data": {
      "text/html": [
       "<div>\n",
       "<style scoped>\n",
       "    .dataframe tbody tr th:only-of-type {\n",
       "        vertical-align: middle;\n",
       "    }\n",
       "\n",
       "    .dataframe tbody tr th {\n",
       "        vertical-align: top;\n",
       "    }\n",
       "\n",
       "    .dataframe thead th {\n",
       "        text-align: right;\n",
       "    }\n",
       "</style>\n",
       "<table border=\"1\" class=\"dataframe\">\n",
       "  <thead>\n",
       "    <tr style=\"text-align: right;\">\n",
       "      <th></th>\n",
       "      <th>Age</th>\n",
       "      <th>Tenure</th>\n",
       "      <th>Usage Frequency</th>\n",
       "      <th>Support Calls</th>\n",
       "      <th>Payment Delay</th>\n",
       "      <th>Total Spend</th>\n",
       "      <th>Last Interaction</th>\n",
       "      <th>Churn</th>\n",
       "    </tr>\n",
       "  </thead>\n",
       "  <tbody>\n",
       "    <tr>\n",
       "      <th>count</th>\n",
       "      <td>64374.000000</td>\n",
       "      <td>64374.000000</td>\n",
       "      <td>64374.000000</td>\n",
       "      <td>64374.000000</td>\n",
       "      <td>64374.000000</td>\n",
       "      <td>64374.000000</td>\n",
       "      <td>64374.000000</td>\n",
       "      <td>64374.000000</td>\n",
       "    </tr>\n",
       "    <tr>\n",
       "      <th>mean</th>\n",
       "      <td>41.970982</td>\n",
       "      <td>31.994827</td>\n",
       "      <td>15.080234</td>\n",
       "      <td>5.400690</td>\n",
       "      <td>17.133952</td>\n",
       "      <td>541.023379</td>\n",
       "      <td>15.498850</td>\n",
       "      <td>0.473685</td>\n",
       "    </tr>\n",
       "    <tr>\n",
       "      <th>std</th>\n",
       "      <td>13.924911</td>\n",
       "      <td>17.098234</td>\n",
       "      <td>8.816470</td>\n",
       "      <td>3.114005</td>\n",
       "      <td>8.852211</td>\n",
       "      <td>260.874809</td>\n",
       "      <td>8.638436</td>\n",
       "      <td>0.499311</td>\n",
       "    </tr>\n",
       "    <tr>\n",
       "      <th>min</th>\n",
       "      <td>18.000000</td>\n",
       "      <td>1.000000</td>\n",
       "      <td>1.000000</td>\n",
       "      <td>0.000000</td>\n",
       "      <td>0.000000</td>\n",
       "      <td>100.000000</td>\n",
       "      <td>1.000000</td>\n",
       "      <td>0.000000</td>\n",
       "    </tr>\n",
       "    <tr>\n",
       "      <th>25%</th>\n",
       "      <td>30.000000</td>\n",
       "      <td>18.000000</td>\n",
       "      <td>7.000000</td>\n",
       "      <td>3.000000</td>\n",
       "      <td>10.000000</td>\n",
       "      <td>313.000000</td>\n",
       "      <td>8.000000</td>\n",
       "      <td>0.000000</td>\n",
       "    </tr>\n",
       "    <tr>\n",
       "      <th>50%</th>\n",
       "      <td>42.000000</td>\n",
       "      <td>33.000000</td>\n",
       "      <td>15.000000</td>\n",
       "      <td>6.000000</td>\n",
       "      <td>19.000000</td>\n",
       "      <td>534.000000</td>\n",
       "      <td>15.000000</td>\n",
       "      <td>0.000000</td>\n",
       "    </tr>\n",
       "    <tr>\n",
       "      <th>75%</th>\n",
       "      <td>54.000000</td>\n",
       "      <td>47.000000</td>\n",
       "      <td>23.000000</td>\n",
       "      <td>8.000000</td>\n",
       "      <td>25.000000</td>\n",
       "      <td>768.000000</td>\n",
       "      <td>23.000000</td>\n",
       "      <td>1.000000</td>\n",
       "    </tr>\n",
       "    <tr>\n",
       "      <th>max</th>\n",
       "      <td>65.000000</td>\n",
       "      <td>60.000000</td>\n",
       "      <td>30.000000</td>\n",
       "      <td>10.000000</td>\n",
       "      <td>30.000000</td>\n",
       "      <td>1000.000000</td>\n",
       "      <td>30.000000</td>\n",
       "      <td>1.000000</td>\n",
       "    </tr>\n",
       "  </tbody>\n",
       "</table>\n",
       "</div>"
      ],
      "text/plain": [
       "                Age        Tenure  Usage Frequency  Support Calls  \\\n",
       "count  64374.000000  64374.000000     64374.000000   64374.000000   \n",
       "mean      41.970982     31.994827        15.080234       5.400690   \n",
       "std       13.924911     17.098234         8.816470       3.114005   \n",
       "min       18.000000      1.000000         1.000000       0.000000   \n",
       "25%       30.000000     18.000000         7.000000       3.000000   \n",
       "50%       42.000000     33.000000        15.000000       6.000000   \n",
       "75%       54.000000     47.000000        23.000000       8.000000   \n",
       "max       65.000000     60.000000        30.000000      10.000000   \n",
       "\n",
       "       Payment Delay   Total Spend  Last Interaction         Churn  \n",
       "count   64374.000000  64374.000000      64374.000000  64374.000000  \n",
       "mean       17.133952    541.023379         15.498850      0.473685  \n",
       "std         8.852211    260.874809          8.638436      0.499311  \n",
       "min         0.000000    100.000000          1.000000      0.000000  \n",
       "25%        10.000000    313.000000          8.000000      0.000000  \n",
       "50%        19.000000    534.000000         15.000000      0.000000  \n",
       "75%        25.000000    768.000000         23.000000      1.000000  \n",
       "max        30.000000   1000.000000         30.000000      1.000000  "
      ]
     },
     "execution_count": 6,
     "metadata": {},
     "output_type": "execute_result"
    }
   ],
   "source": [
    "df.describe()"
   ]
  },
  {
   "cell_type": "code",
   "execution_count": 7,
   "id": "420e724a-ed59-4750-a6a6-8c2a0e7b6afc",
   "metadata": {},
   "outputs": [
    {
     "data": {
      "text/plain": [
       "Churn\n",
       "0    53.0\n",
       "1    47.0\n",
       "Name: proportion, dtype: float64"
      ]
     },
     "execution_count": 7,
     "metadata": {},
     "output_type": "execute_result"
    }
   ],
   "source": [
    "#checking the value counts of our binary target feature\n",
    "df[\"Churn\"].value_counts(normalize=True).round(2)*100"
   ]
  },
  {
   "cell_type": "code",
   "execution_count": 8,
   "id": "fbb863b6-ae28-4324-9787-77ae3b8da999",
   "metadata": {},
   "outputs": [
    {
     "data": {
      "image/png": "[encoded data removed]",
      "text/plain": [
       "<Figure size 640x480 with 1 Axes>"
      ]
     },
     "metadata": {},
     "output_type": "display_data"
    }
   ],
   "source": [
    "# plot class balance\n",
    "df_valueCounts = df[\"Churn\"].value_counts(normalize=True)\n",
    "df_valueCounts.plot(\n",
    "    kind=\"bar\",\n",
    "    xlabel=\"Classes\",\n",
    "    ylabel=\"Frequency(%)\",\n",
    "    title=\"Class Balance\"\n",
    ");"
   ]
  },
  {
   "cell_type": "markdown",
   "id": "76a00f6e-cee0-4b45-977e-1e6bf0114092",
   "metadata": {},
   "source": [
    "#### Class Imbalance Insight:\n",
    "\n",
    "From the visualization above, it is evident that our binary target feature is imbalanced. The majority of the customers in the dataset belong to the non-churn class (positive class), while the churn class (negative class) represents a smaller portion of the data. This imbalance is something we will need to address during preprocessing, as it may affect the performance and generalizability of our predictive model."
   ]
  },
  {
   "cell_type": "code",
   "execution_count": 9,
   "id": "bd957ec4-4a62-40ab-a6c8-c1fdd642f277",
   "metadata": {},
   "outputs": [
    {
     "name": "stdout",
     "output_type": "stream",
     "text": [
      "65\n"
     ]
    },
    {
     "data": {
      "text/html": [
       "<div>\n",
       "<style scoped>\n",
       "    .dataframe tbody tr th:only-of-type {\n",
       "        vertical-align: middle;\n",
       "    }\n",
       "\n",
       "    .dataframe tbody tr th {\n",
       "        vertical-align: top;\n",
       "    }\n",
       "\n",
       "    .dataframe thead th {\n",
       "        text-align: right;\n",
       "    }\n",
       "</style>\n",
       "<table border=\"1\" class=\"dataframe\">\n",
       "  <thead>\n",
       "    <tr style=\"text-align: right;\">\n",
       "      <th></th>\n",
       "      <th>Age</th>\n",
       "    </tr>\n",
       "  </thead>\n",
       "  <tbody>\n",
       "    <tr>\n",
       "      <th>count</th>\n",
       "      <td>64374.000000</td>\n",
       "    </tr>\n",
       "    <tr>\n",
       "      <th>mean</th>\n",
       "      <td>41.970982</td>\n",
       "    </tr>\n",
       "    <tr>\n",
       "      <th>std</th>\n",
       "      <td>13.924911</td>\n",
       "    </tr>\n",
       "    <tr>\n",
       "      <th>min</th>\n",
       "      <td>18.000000</td>\n",
       "    </tr>\n",
       "    <tr>\n",
       "      <th>25%</th>\n",
       "      <td>30.000000</td>\n",
       "    </tr>\n",
       "    <tr>\n",
       "      <th>50%</th>\n",
       "      <td>42.000000</td>\n",
       "    </tr>\n",
       "    <tr>\n",
       "      <th>75%</th>\n",
       "      <td>54.000000</td>\n",
       "    </tr>\n",
       "    <tr>\n",
       "      <th>max</th>\n",
       "      <td>65.000000</td>\n",
       "    </tr>\n",
       "  </tbody>\n",
       "</table>\n",
       "</div>"
      ],
      "text/plain": [
       "                Age\n",
       "count  64374.000000\n",
       "mean      41.970982\n",
       "std       13.924911\n",
       "min       18.000000\n",
       "25%       30.000000\n",
       "50%       42.000000\n",
       "75%       54.000000\n",
       "max       65.000000"
      ]
     },
     "execution_count": 9,
     "metadata": {},
     "output_type": "execute_result"
    }
   ],
   "source": [
    "print(df[\"Age\"].unique().max())\n",
    "df[\"Age\"].describe().to_frame()"
   ]
  },
  {
   "cell_type": "code",
   "execution_count": 10,
   "id": "e0ba352d-2a8a-4165-bd80-e59a8382d4b6",
   "metadata": {},
   "outputs": [
    {
     "data": {
      "image/png": "[encoded data removed]",
      "text/plain": [
       "<Figure size 640x480 with 1 Axes>"
      ]
     },
     "metadata": {},
     "output_type": "display_data"
    }
   ],
   "source": [
    "# boxplot using seaborn\n",
    "sns.boxplot(x=\"Churn\", y=\"Age\", data=df)\n",
    "plt.xlabel(\"Classes\")\n",
    "plt.ylabel(\"Age Frequency\")\n",
    "plt.title(\"Distribution of Age by class\");"
   ]
  },
  {
   "cell_type": "markdown",
   "id": "71a6cc6a-d643-477f-b836-31cd672c5314",
   "metadata": {},
   "source": [
    "#### Insight from Age Distribution by Churn (Boxplot Analysis):\n",
    "Both the churned (negative class) and non-churned (positive class) customer groups have a minimum age of 18 and a maximum age of 65.\n",
    "\n",
    "The median age for non-churned customers is approximately 45, while for churned customers it is slightly lower at around 42.\n",
    "\n",
    "No outliers were observed in the age distribution for either group, suggesting a consistent age range across both churn categories."
   ]
  },
  {
   "cell_type": "code",
   "execution_count": 13,
   "id": "373a9382-b873-48e4-aca3-cf2e4a213126",
   "metadata": {},
   "outputs": [
    {
     "data": {
      "image/png": "[encoded data removed]",
      "text/plain": [
       "<Figure size 800x500 with 1 Axes>"
      ]
     },
     "metadata": {},
     "output_type": "display_data"
    }
   ],
   "source": [
    "# Group age into bins for better visualization\n",
    "df['AgeGroup'] = pd.cut(df['Age'], bins=[18, 25, 35, 45, 55, 65],\n",
    "                        labels=['18-25', '26-35', '36-45', '46-55', '56-65'])\n",
    "\n",
    "# Side-by-side bar chart using seaborn\n",
    "plt.figure(figsize=(8,5))\n",
    "sns.countplot(data=df, x='AgeGroup', hue='Churn', palette={0: '#3498db', 1: '#e74c3c'}, width=0.5)\n",
    "\n",
    "plt.title('Customer Churn by Age Group')\n",
    "plt.xlabel('Age Group')\n",
    "plt.ylabel('Number of Customers(counts)')\n",
    "plt.legend(title='Churn')\n",
    "plt.xticks(rotation=45)\n",
    "plt.tight_layout()\n",
    "plt.show();"
   ]
  },
  {
   "cell_type": "code",
   "execution_count": 14,
   "id": "d866c9b8-b3a2-423a-a4ce-2aca91e4a639",
   "metadata": {},
   "outputs": [
    {
     "data": {
      "image/png": "[encoded data removed]",
      "text/plain": [
       "<Figure size 640x480 with 1 Axes>"
      ]
     },
     "metadata": {},
     "output_type": "display_data"
    }
   ],
   "source": [
    "# using method chaining\n",
    "df_age = (\n",
    "    df[\"AgeGroup\"]\n",
    "    .groupby(df[\"Churn\"])\n",
    "    .value_counts(normalize=True)\n",
    "    .rename(\"Number of Customers(%)\")\n",
    "    .to_frame()\n",
    "    .reset_index()\n",
    ")\n",
    "# df_age\n",
    "\n",
    "# plotting side-by-side bar chart\n",
    "sns.barplot(\n",
    "    data=df_age,\n",
    "    x=\"AgeGroup\",\n",
    "    y=\"Number of Customers(%)\",\n",
    "    hue=\"Churn\",\n",
    "    palette={0: '#3498db', 1: '#e74c3c'}\n",
    ");"
   ]
  },
  {
   "cell_type": "code",
   "execution_count": 15,
   "id": "fed1900b-67d1-4342-89d7-8ef68c1fe9c8",
   "metadata": {},
   "outputs": [
    {
     "data": {
      "text/html": [
       "<div>\n",
       "<style scoped>\n",
       "    .dataframe tbody tr th:only-of-type {\n",
       "        vertical-align: middle;\n",
       "    }\n",
       "\n",
       "    .dataframe tbody tr th {\n",
       "        vertical-align: top;\n",
       "    }\n",
       "\n",
       "    .dataframe thead th {\n",
       "        text-align: right;\n",
       "    }\n",
       "</style>\n",
       "<table border=\"1\" class=\"dataframe\">\n",
       "  <thead>\n",
       "    <tr style=\"text-align: right;\">\n",
       "      <th></th>\n",
       "      <th></th>\n",
       "      <th></th>\n",
       "      <th>proportion</th>\n",
       "    </tr>\n",
       "    <tr>\n",
       "      <th>Churn</th>\n",
       "      <th>AgeGroup</th>\n",
       "      <th>Number of Customers(%)</th>\n",
       "      <th></th>\n",
       "    </tr>\n",
       "  </thead>\n",
       "  <tbody>\n",
       "    <tr>\n",
       "      <th rowspan=\"5\" valign=\"top\">0</th>\n",
       "      <th>18-25</th>\n",
       "      <th>0.150547</th>\n",
       "      <td>0.1</td>\n",
       "    </tr>\n",
       "    <tr>\n",
       "      <th>26-35</th>\n",
       "      <th>0.219205</th>\n",
       "      <td>0.1</td>\n",
       "    </tr>\n",
       "    <tr>\n",
       "      <th>36-45</th>\n",
       "      <th>0.219356</th>\n",
       "      <td>0.1</td>\n",
       "    </tr>\n",
       "    <tr>\n",
       "      <th>46-55</th>\n",
       "      <th>0.209410</th>\n",
       "      <td>0.1</td>\n",
       "    </tr>\n",
       "    <tr>\n",
       "      <th>56-65</th>\n",
       "      <th>0.201483</th>\n",
       "      <td>0.1</td>\n",
       "    </tr>\n",
       "    <tr>\n",
       "      <th rowspan=\"5\" valign=\"top\">1</th>\n",
       "      <th>18-25</th>\n",
       "      <th>0.136159</th>\n",
       "      <td>0.1</td>\n",
       "    </tr>\n",
       "    <tr>\n",
       "      <th>26-35</th>\n",
       "      <th>0.192808</th>\n",
       "      <td>0.1</td>\n",
       "    </tr>\n",
       "    <tr>\n",
       "      <th>36-45</th>\n",
       "      <th>0.196016</th>\n",
       "      <td>0.1</td>\n",
       "    </tr>\n",
       "    <tr>\n",
       "      <th>46-55</th>\n",
       "      <th>0.226296</th>\n",
       "      <td>0.1</td>\n",
       "    </tr>\n",
       "    <tr>\n",
       "      <th>56-65</th>\n",
       "      <th>0.248722</th>\n",
       "      <td>0.1</td>\n",
       "    </tr>\n",
       "  </tbody>\n",
       "</table>\n",
       "</div>"
      ],
      "text/plain": [
       "                                       proportion\n",
       "Churn AgeGroup Number of Customers(%)            \n",
       "0     18-25    0.150547                       0.1\n",
       "      26-35    0.219205                       0.1\n",
       "      36-45    0.219356                       0.1\n",
       "      46-55    0.209410                       0.1\n",
       "      56-65    0.201483                       0.1\n",
       "1     18-25    0.136159                       0.1\n",
       "      26-35    0.192808                       0.1\n",
       "      36-45    0.196016                       0.1\n",
       "      46-55    0.226296                       0.1\n",
       "      56-65    0.248722                       0.1"
      ]
     },
     "execution_count": 15,
     "metadata": {},
     "output_type": "execute_result"
    }
   ],
   "source": [
    "df_age.value_counts(normalize=True).to_frame()"
   ]
  },
  {
   "cell_type": "code",
   "execution_count": 16,
   "id": "15a21bfa-65b7-4c7d-8f9f-46942dc370ef",
   "metadata": {},
   "outputs": [
    {
     "data": {
      "text/html": [
       "<div>\n",
       "<style scoped>\n",
       "    .dataframe tbody tr th:only-of-type {\n",
       "        vertical-align: middle;\n",
       "    }\n",
       "\n",
       "    .dataframe tbody tr th {\n",
       "        vertical-align: top;\n",
       "    }\n",
       "\n",
       "    .dataframe thead th {\n",
       "        text-align: right;\n",
       "    }\n",
       "</style>\n",
       "<table border=\"1\" class=\"dataframe\">\n",
       "  <thead>\n",
       "    <tr style=\"text-align: right;\">\n",
       "      <th>Churn</th>\n",
       "      <th>0</th>\n",
       "      <th>1</th>\n",
       "    </tr>\n",
       "    <tr>\n",
       "      <th>AgeGroup</th>\n",
       "      <th></th>\n",
       "      <th></th>\n",
       "    </tr>\n",
       "  </thead>\n",
       "  <tbody>\n",
       "    <tr>\n",
       "      <th>18-25</th>\n",
       "      <td>4995</td>\n",
       "      <td>4074</td>\n",
       "    </tr>\n",
       "    <tr>\n",
       "      <th>26-35</th>\n",
       "      <td>7273</td>\n",
       "      <td>5769</td>\n",
       "    </tr>\n",
       "    <tr>\n",
       "      <th>36-45</th>\n",
       "      <td>7278</td>\n",
       "      <td>5865</td>\n",
       "    </tr>\n",
       "    <tr>\n",
       "      <th>46-55</th>\n",
       "      <td>6948</td>\n",
       "      <td>6771</td>\n",
       "    </tr>\n",
       "    <tr>\n",
       "      <th>56-65</th>\n",
       "      <td>6685</td>\n",
       "      <td>7442</td>\n",
       "    </tr>\n",
       "  </tbody>\n",
       "</table>\n",
       "</div>"
      ],
      "text/plain": [
       "Churn        0     1\n",
       "AgeGroup            \n",
       "18-25     4995  4074\n",
       "26-35     7273  5769\n",
       "36-45     7278  5865\n",
       "46-55     6948  6771\n",
       "56-65     6685  7442"
      ]
     },
     "execution_count": 16,
     "metadata": {},
     "output_type": "execute_result"
    }
   ],
   "source": [
    "df.groupby(['AgeGroup', 'Churn']).size().unstack()"
   ]
  },
  {
   "cell_type": "code",
   "execution_count": 17,
   "id": "dbd4c0cb-cc33-4928-920b-b3e0a1bf56d8",
   "metadata": {},
   "outputs": [
    {
     "data": {
      "text/plain": [
       "AgeGroup\n",
       "56-65    14127\n",
       "46-55    13719\n",
       "36-45    13143\n",
       "26-35    13042\n",
       "18-25     9069\n",
       "Name: count, dtype: int64"
      ]
     },
     "execution_count": 17,
     "metadata": {},
     "output_type": "execute_result"
    }
   ],
   "source": [
    "# value counts based on AgeGroup\n",
    "df[\"AgeGroup\"].value_counts()\n",
    "# df[\"AgeGroup\"].value_counts(normalize=True).round(2)*100"
   ]
  },
  {
   "cell_type": "markdown",
   "id": "942b237a-63ca-4a9b-b093-0414dceea50d",
   "metadata": {},
   "source": [
    "#### Insight:\n",
    "\n",
    "To better understand customer behavior across age groups, I feature-engineered a new column called AgeGroup by binning the Age column into five distinct age ranges.\n",
    "\n",
    "The goal was to examine how churn varies across different age segments.\n",
    "\n",
    "From the visualization:\n",
    "\n",
    "Approximately 7,442 customers aged 56–65 churned, indicating a high churn rate within this group.\n",
    "\n",
    "Meanwhile, around 7,278 customers aged 36–45 did not churn, suggesting stronger customer retention in this age group.\n",
    "\n",
    "This also suggests that a significant portion of our overall customer base falls within the 56–65 age group, which may require further analysis to understand and address the reasons behind their high churn rate."
   ]
  },
  {
   "cell_type": "markdown",
   "id": "ca388642-bc82-4b72-bce4-72fe9aa4b31d",
   "metadata": {},
   "source": [
    "### Gender vs Churn Analysis"
   ]
  },
  {
   "cell_type": "code",
   "execution_count": 18,
   "id": "fb7a5f75-b0f9-49ad-aa70-05a67ce322b1",
   "metadata": {},
   "outputs": [
    {
     "data": {
      "text/html": [
       "<div>\n",
       "<style scoped>\n",
       "    .dataframe tbody tr th:only-of-type {\n",
       "        vertical-align: middle;\n",
       "    }\n",
       "\n",
       "    .dataframe tbody tr th {\n",
       "        vertical-align: top;\n",
       "    }\n",
       "\n",
       "    .dataframe thead th {\n",
       "        text-align: right;\n",
       "    }\n",
       "</style>\n",
       "<table border=\"1\" class=\"dataframe\">\n",
       "  <thead>\n",
       "    <tr style=\"text-align: right;\">\n",
       "      <th></th>\n",
       "      <th>count</th>\n",
       "    </tr>\n",
       "    <tr>\n",
       "      <th>Gender</th>\n",
       "      <th></th>\n",
       "    </tr>\n",
       "  </thead>\n",
       "  <tbody>\n",
       "    <tr>\n",
       "      <th>Female</th>\n",
       "      <td>34353</td>\n",
       "    </tr>\n",
       "    <tr>\n",
       "      <th>Male</th>\n",
       "      <td>30021</td>\n",
       "    </tr>\n",
       "  </tbody>\n",
       "</table>\n",
       "</div>"
      ],
      "text/plain": [
       "        count\n",
       "Gender       \n",
       "Female  34353\n",
       "Male    30021"
      ]
     },
     "execution_count": 18,
     "metadata": {},
     "output_type": "execute_result"
    }
   ],
   "source": [
    "df[\"Gender\"].value_counts().to_frame()"
   ]
  },
  {
   "cell_type": "code",
   "execution_count": 19,
   "id": "ff38f781-0160-4c65-8686-b84025cf05a2",
   "metadata": {},
   "outputs": [
    {
     "data": {
      "text/html": [
       "<div>\n",
       "<style scoped>\n",
       "    .dataframe tbody tr th:only-of-type {\n",
       "        vertical-align: middle;\n",
       "    }\n",
       "\n",
       "    .dataframe tbody tr th {\n",
       "        vertical-align: top;\n",
       "    }\n",
       "\n",
       "    .dataframe thead th {\n",
       "        text-align: right;\n",
       "    }\n",
       "</style>\n",
       "<table border=\"1\" class=\"dataframe\">\n",
       "  <thead>\n",
       "    <tr style=\"text-align: right;\">\n",
       "      <th>Churn</th>\n",
       "      <th>0</th>\n",
       "      <th>1</th>\n",
       "    </tr>\n",
       "    <tr>\n",
       "      <th>Gender</th>\n",
       "      <th></th>\n",
       "      <th></th>\n",
       "    </tr>\n",
       "  </thead>\n",
       "  <tbody>\n",
       "    <tr>\n",
       "      <th>Female</th>\n",
       "      <td>15442</td>\n",
       "      <td>18911</td>\n",
       "    </tr>\n",
       "    <tr>\n",
       "      <th>Male</th>\n",
       "      <td>18439</td>\n",
       "      <td>11582</td>\n",
       "    </tr>\n",
       "  </tbody>\n",
       "</table>\n",
       "</div>"
      ],
      "text/plain": [
       "Churn       0      1\n",
       "Gender              \n",
       "Female  15442  18911\n",
       "Male    18439  11582"
      ]
     },
     "execution_count": 19,
     "metadata": {},
     "output_type": "execute_result"
    }
   ],
   "source": [
    "# churn by gender using the groupby method\n",
    "df.groupby([\"Gender\", \"Churn\"]).size().unstack()"
   ]
  },
  {
   "cell_type": "code",
   "execution_count": 20,
   "id": "ad008e1c-8422-4aac-93d8-7b908908d350",
   "metadata": {},
   "outputs": [
    {
     "data": {
      "image/png": "[encoded data removed]",
      "text/plain": [
       "<Figure size 700x500 with 1 Axes>"
      ]
     },
     "metadata": {},
     "output_type": "display_data"
    }
   ],
   "source": [
    "# side-by-side bar chart using seaborn\n",
    "plt.figure(figsize=(7,5))\n",
    "sns.countplot(data=df, x=\"Gender\", hue=\"Churn\", palette={0: '#3498db', 1: '#e74c3c'}, width=0.3)\n",
    "plt.xlabel(\"Gender\")\n",
    "plt.ylabel(\"Number of Customers\")\n",
    "plt.title(\"Churn by Gender\")\n",
    "plt.legend(title=\"Churn\")\n",
    "plt.xticks(rotation=45)\n",
    "plt.tight_layout()\n",
    "plt.show();"
   ]
  },
  {
   "cell_type": "markdown",
   "id": "c93424a5-b2b0-4356-9b8e-a875bb7d466f",
   "metadata": {},
   "source": [
    "#### Insights from Gender vs Churn Analysis:\n",
    "The majority of our customer base is female.\n",
    "\n",
    "Approximately 18,911 female customers churned, while 15,442 females did not.\n",
    "\n",
    "In contrast, around 11,582 male customers churned, while 18,439 males stayed.\n",
    "\n",
    "Conclusion: A higher number of female customers churned compared to males, making them the majority among churned users."
   ]
  },
  {
   "cell_type": "markdown",
   "id": "481c00d7-d692-455d-9c21-357a2add66be",
   "metadata": {},
   "source": [
    "### Exploring Trends Between Usage Frequency and Total Spend"
   ]
  },
  {
   "cell_type": "code",
   "execution_count": 21,
   "id": "54ed6b00-297f-4b4f-8e2c-270558c28d9e",
   "metadata": {},
   "outputs": [
    {
     "data": {
      "text/plain": [
       "Usage Frequency\n",
       "2    2633\n",
       "1    2615\n",
       "3    2488\n",
       "4    2427\n",
       "5    2337\n",
       "Name: count, dtype: int64"
      ]
     },
     "execution_count": 21,
     "metadata": {},
     "output_type": "execute_result"
    }
   ],
   "source": [
    "df[\"Usage Frequency\"].value_counts().head()"
   ]
  },
  {
   "cell_type": "code",
   "execution_count": 22,
   "id": "a1932b57-008f-4756-92c6-7470f86b418b",
   "metadata": {},
   "outputs": [
    {
     "data": {
      "image/png": "[encoded data removed]",
      "text/plain": [
       "<Figure size 640x480 with 1 Axes>"
      ]
     },
     "metadata": {},
     "output_type": "display_data"
    }
   ],
   "source": [
    "# create bin for Usage frequency\n",
    "df[\"UsageFreq_Group\"] = pd.cut(\n",
    "    df[\"Usage Frequency\"], \n",
    "    bins = [0,5,10,15,20,25,30],\n",
    "    labels = ['0-5', '6-10', '11-15', '16-20', '21-25', '26-30']\n",
    ")\n",
    "# creating a boxplot\n",
    "sns.boxplot(data=df,x=\"UsageFreq_Group\", y='Total Spend');"
   ]
  },
  {
   "cell_type": "code",
   "execution_count": 23,
   "id": "f28ba52e-db53-4106-8124-39c7c096cceb",
   "metadata": {},
   "outputs": [
    {
     "data": {
      "text/html": [
       "<div>\n",
       "<style scoped>\n",
       "    .dataframe tbody tr th:only-of-type {\n",
       "        vertical-align: middle;\n",
       "    }\n",
       "\n",
       "    .dataframe tbody tr th {\n",
       "        vertical-align: top;\n",
       "    }\n",
       "\n",
       "    .dataframe thead th {\n",
       "        text-align: right;\n",
       "    }\n",
       "</style>\n",
       "<table border=\"1\" class=\"dataframe\">\n",
       "  <thead>\n",
       "    <tr style=\"text-align: right;\">\n",
       "      <th></th>\n",
       "      <th>count</th>\n",
       "      <th>mean</th>\n",
       "      <th>std</th>\n",
       "      <th>min</th>\n",
       "      <th>25%</th>\n",
       "      <th>50%</th>\n",
       "      <th>75%</th>\n",
       "      <th>max</th>\n",
       "    </tr>\n",
       "    <tr>\n",
       "      <th>UsageFreq_Group</th>\n",
       "      <th></th>\n",
       "      <th></th>\n",
       "      <th></th>\n",
       "      <th></th>\n",
       "      <th></th>\n",
       "      <th></th>\n",
       "      <th></th>\n",
       "      <th></th>\n",
       "    </tr>\n",
       "  </thead>\n",
       "  <tbody>\n",
       "    <tr>\n",
       "      <th>0-5</th>\n",
       "      <td>12500.0</td>\n",
       "      <td>538.232000</td>\n",
       "      <td>261.905774</td>\n",
       "      <td>100.0</td>\n",
       "      <td>308.0</td>\n",
       "      <td>527.0</td>\n",
       "      <td>766.0</td>\n",
       "      <td>1000.0</td>\n",
       "    </tr>\n",
       "    <tr>\n",
       "      <th>6-10</th>\n",
       "      <td>10312.0</td>\n",
       "      <td>544.374903</td>\n",
       "      <td>259.456078</td>\n",
       "      <td>100.0</td>\n",
       "      <td>318.0</td>\n",
       "      <td>540.0</td>\n",
       "      <td>770.0</td>\n",
       "      <td>1000.0</td>\n",
       "    </tr>\n",
       "    <tr>\n",
       "      <th>11-15</th>\n",
       "      <td>10420.0</td>\n",
       "      <td>540.537812</td>\n",
       "      <td>262.419475</td>\n",
       "      <td>100.0</td>\n",
       "      <td>308.0</td>\n",
       "      <td>534.0</td>\n",
       "      <td>771.0</td>\n",
       "      <td>1000.0</td>\n",
       "    </tr>\n",
       "    <tr>\n",
       "      <th>16-20</th>\n",
       "      <td>10320.0</td>\n",
       "      <td>539.974806</td>\n",
       "      <td>259.798357</td>\n",
       "      <td>100.0</td>\n",
       "      <td>316.0</td>\n",
       "      <td>535.0</td>\n",
       "      <td>765.0</td>\n",
       "      <td>1000.0</td>\n",
       "    </tr>\n",
       "    <tr>\n",
       "      <th>21-25</th>\n",
       "      <td>10461.0</td>\n",
       "      <td>543.016442</td>\n",
       "      <td>259.351148</td>\n",
       "      <td>100.0</td>\n",
       "      <td>318.0</td>\n",
       "      <td>538.0</td>\n",
       "      <td>767.0</td>\n",
       "      <td>1000.0</td>\n",
       "    </tr>\n",
       "    <tr>\n",
       "      <th>26-30</th>\n",
       "      <td>10361.0</td>\n",
       "      <td>540.575813</td>\n",
       "      <td>262.092537</td>\n",
       "      <td>100.0</td>\n",
       "      <td>312.0</td>\n",
       "      <td>532.0</td>\n",
       "      <td>771.0</td>\n",
       "      <td>1000.0</td>\n",
       "    </tr>\n",
       "  </tbody>\n",
       "</table>\n",
       "</div>"
      ],
      "text/plain": [
       "                   count        mean         std    min    25%    50%    75%  \\\n",
       "UsageFreq_Group                                                                \n",
       "0-5              12500.0  538.232000  261.905774  100.0  308.0  527.0  766.0   \n",
       "6-10             10312.0  544.374903  259.456078  100.0  318.0  540.0  770.0   \n",
       "11-15            10420.0  540.537812  262.419475  100.0  308.0  534.0  771.0   \n",
       "16-20            10320.0  539.974806  259.798357  100.0  316.0  535.0  765.0   \n",
       "21-25            10461.0  543.016442  259.351148  100.0  318.0  538.0  767.0   \n",
       "26-30            10361.0  540.575813  262.092537  100.0  312.0  532.0  771.0   \n",
       "\n",
       "                    max  \n",
       "UsageFreq_Group          \n",
       "0-5              1000.0  \n",
       "6-10             1000.0  \n",
       "11-15            1000.0  \n",
       "16-20            1000.0  \n",
       "21-25            1000.0  \n",
       "26-30            1000.0  "
      ]
     },
     "execution_count": 23,
     "metadata": {},
     "output_type": "execute_result"
    }
   ],
   "source": [
    "df.groupby(\"UsageFreq_Group\")[\"Total Spend\"].describe()"
   ]
  },
  {
   "cell_type": "markdown",
   "id": "f0287847-a281-46c8-88a1-d5add37721cf",
   "metadata": {},
   "source": [
    "#### Insight:\n",
    "Based on the visualizations and summary statistics, Usage Frequency does not show a strong influence on Total Spend. Most frequency groups have similar median (50th percentile) values, indicating a relatively uniform spending pattern across usage levels.\n",
    "However, users with a very low frequency (0–5) display a slightly lower median spend, suggesting limited engagement.\n",
    "Additionally, there is no evidence of significant outliers when comparing these two features, as shown by the boxplots and consistent spread of data across categories."
   ]
  },
  {
   "cell_type": "markdown",
   "id": "cffce15a-a1db-4697-a7bc-8bf167effc67",
   "metadata": {},
   "source": [
    "#### Subscription Type vs Churn Analysis"
   ]
  },
  {
   "cell_type": "code",
   "execution_count": 24,
   "id": "6d01930c-8536-4778-b6e0-a1e444e56d76",
   "metadata": {},
   "outputs": [
    {
     "data": {
      "text/html": [
       "<div>\n",
       "<style scoped>\n",
       "    .dataframe tbody tr th:only-of-type {\n",
       "        vertical-align: middle;\n",
       "    }\n",
       "\n",
       "    .dataframe tbody tr th {\n",
       "        vertical-align: top;\n",
       "    }\n",
       "\n",
       "    .dataframe thead th {\n",
       "        text-align: right;\n",
       "    }\n",
       "</style>\n",
       "<table border=\"1\" class=\"dataframe\">\n",
       "  <thead>\n",
       "    <tr style=\"text-align: right;\">\n",
       "      <th></th>\n",
       "      <th>count</th>\n",
       "    </tr>\n",
       "    <tr>\n",
       "      <th>Subscription Type</th>\n",
       "      <th></th>\n",
       "    </tr>\n",
       "  </thead>\n",
       "  <tbody>\n",
       "    <tr>\n",
       "      <th>Standard</th>\n",
       "      <td>21502</td>\n",
       "    </tr>\n",
       "    <tr>\n",
       "      <th>Basic</th>\n",
       "      <td>21451</td>\n",
       "    </tr>\n",
       "    <tr>\n",
       "      <th>Premium</th>\n",
       "      <td>21421</td>\n",
       "    </tr>\n",
       "  </tbody>\n",
       "</table>\n",
       "</div>"
      ],
      "text/plain": [
       "                   count\n",
       "Subscription Type       \n",
       "Standard           21502\n",
       "Basic              21451\n",
       "Premium            21421"
      ]
     },
     "execution_count": 24,
     "metadata": {},
     "output_type": "execute_result"
    }
   ],
   "source": [
    "df[\"Subscription Type\"].value_counts().to_frame()"
   ]
  },
  {
   "cell_type": "code",
   "execution_count": 25,
   "id": "662e8235-b7ed-4ff8-9f88-30f9537518fb",
   "metadata": {},
   "outputs": [
    {
     "data": {
      "image/png": "[encoded data removed]",
      "text/plain": [
       "<Figure size 700x500 with 1 Axes>"
      ]
     },
     "metadata": {},
     "output_type": "display_data"
    }
   ],
   "source": [
    "# side-by-side bar chart using seaborn \n",
    "plt.figure(figsize=(7,5))\n",
    "sns.countplot(data=df, x=\"Subscription Type\", hue=\"Churn\", palette={0: '#3498db', 1: '#e74c3c'}, width=0.4)\n",
    "plt.xlabel(\"Subscription Type\")\n",
    "plt.ylabel(\"Number of Customer(count)\")\n",
    "plt.title(\"Churn by Subscription Type\")\n",
    "plt.xticks(rotation=45)\n",
    "plt.legend(title=\"Churn\");"
   ]
  },
  {
   "cell_type": "code",
   "execution_count": 26,
   "id": "ae46d2ee-1ab8-41a1-a2a9-08dfd84fb8ec",
   "metadata": {},
   "outputs": [
    {
     "data": {
      "text/html": [
       "<div>\n",
       "<style scoped>\n",
       "    .dataframe tbody tr th:only-of-type {\n",
       "        vertical-align: middle;\n",
       "    }\n",
       "\n",
       "    .dataframe tbody tr th {\n",
       "        vertical-align: top;\n",
       "    }\n",
       "\n",
       "    .dataframe thead th {\n",
       "        text-align: right;\n",
       "    }\n",
       "</style>\n",
       "<table border=\"1\" class=\"dataframe\">\n",
       "  <thead>\n",
       "    <tr style=\"text-align: right;\">\n",
       "      <th>Churn</th>\n",
       "      <th>0</th>\n",
       "      <th>1</th>\n",
       "    </tr>\n",
       "    <tr>\n",
       "      <th>Subscription Type</th>\n",
       "      <th></th>\n",
       "      <th></th>\n",
       "    </tr>\n",
       "  </thead>\n",
       "  <tbody>\n",
       "    <tr>\n",
       "      <th>Basic</th>\n",
       "      <td>11095</td>\n",
       "      <td>10356</td>\n",
       "    </tr>\n",
       "    <tr>\n",
       "      <th>Premium</th>\n",
       "      <td>11461</td>\n",
       "      <td>9960</td>\n",
       "    </tr>\n",
       "    <tr>\n",
       "      <th>Standard</th>\n",
       "      <td>11325</td>\n",
       "      <td>10177</td>\n",
       "    </tr>\n",
       "  </tbody>\n",
       "</table>\n",
       "</div>"
      ],
      "text/plain": [
       "Churn                  0      1\n",
       "Subscription Type              \n",
       "Basic              11095  10356\n",
       "Premium            11461   9960\n",
       "Standard           11325  10177"
      ]
     },
     "execution_count": 26,
     "metadata": {},
     "output_type": "execute_result"
    }
   ],
   "source": [
    "df.groupby([\"Subscription Type\", \"Churn\"]).size().unstack()"
   ]
  },
  {
   "cell_type": "markdown",
   "id": "8787bf2f-dd1d-46a5-99fe-ddaaf8f7eecf",
   "metadata": {},
   "source": [
    "#### Insight from Subscription Type vs Churn Analysis:\n",
    "Based on value counts, our customer base is fairly evenly distributed across the three subscription types — approximately 21,500 each for Standard, Basic, and Premium.\n",
    "\n",
    "However, when we group by both Subscription Type and Churn:\n",
    "\n",
    "Basic Subscription has the highest number of churned customers (~10,356).\n",
    "\n",
    "Premium Subscription follows with ~9,960 churned customers.\n",
    "\n",
    "Standard Subscription has the lowest churn count at ~10,177.\n",
    "\n",
    "Summary: Although customer counts are similar across all subscription types, churn is slightly higher among Basic Subscription users, while Standard Subscription users show relatively better retention."
   ]
  },
  {
   "cell_type": "markdown",
   "id": "99ead63c-485b-4bd8-8177-3fd7a3db8ea0",
   "metadata": {},
   "source": [
    "#### Contract length vs Churn Analysis"
   ]
  },
  {
   "cell_type": "code",
   "execution_count": 27,
   "id": "d9ab3fd6-5ee1-43ab-a93a-2d3d326bb30d",
   "metadata": {},
   "outputs": [
    {
     "name": "stdout",
     "output_type": "stream",
     "text": [
      "['Monthly', 'Annual', 'Quarterly']\n"
     ]
    },
    {
     "data": {
      "text/html": [
       "<div>\n",
       "<style scoped>\n",
       "    .dataframe tbody tr th:only-of-type {\n",
       "        vertical-align: middle;\n",
       "    }\n",
       "\n",
       "    .dataframe tbody tr th {\n",
       "        vertical-align: top;\n",
       "    }\n",
       "\n",
       "    .dataframe thead th {\n",
       "        text-align: right;\n",
       "    }\n",
       "</style>\n",
       "<table border=\"1\" class=\"dataframe\">\n",
       "  <thead>\n",
       "    <tr style=\"text-align: right;\">\n",
       "      <th></th>\n",
       "      <th>count</th>\n",
       "    </tr>\n",
       "    <tr>\n",
       "      <th>Contract Length</th>\n",
       "      <th></th>\n",
       "    </tr>\n",
       "  </thead>\n",
       "  <tbody>\n",
       "    <tr>\n",
       "      <th>Monthly</th>\n",
       "      <td>22130</td>\n",
       "    </tr>\n",
       "    <tr>\n",
       "      <th>Annual</th>\n",
       "      <td>21410</td>\n",
       "    </tr>\n",
       "    <tr>\n",
       "      <th>Quarterly</th>\n",
       "      <td>20834</td>\n",
       "    </tr>\n",
       "  </tbody>\n",
       "</table>\n",
       "</div>"
      ],
      "text/plain": [
       "                 count\n",
       "Contract Length       \n",
       "Monthly          22130\n",
       "Annual           21410\n",
       "Quarterly        20834"
      ]
     },
     "execution_count": 27,
     "metadata": {},
     "output_type": "execute_result"
    }
   ],
   "source": [
    "print(list(df['Contract Length'].unique()))\n",
    "df[\"Contract Length\"].value_counts().to_frame()"
   ]
  },
  {
   "cell_type": "code",
   "execution_count": 28,
   "id": "19f049dc-4198-465f-848e-390bc0f34bea",
   "metadata": {},
   "outputs": [
    {
     "data": {
      "image/png": "[encoded data removed]",
      "text/plain": [
       "<Figure size 640x480 with 2 Axes>"
      ]
     },
     "metadata": {},
     "output_type": "display_data"
    }
   ],
   "source": [
    "cross = pd.crosstab(df['Subscription Type'], df['Contract Length'])\n",
    "sns.heatmap(cross, annot=True, fmt=\"d\", cmap=\"Blues\")\n",
    "# label axis\n",
    "plt.title(\"Subscription Type vs Contract Length by Counts\")\n",
    "plt.ylabel(\"Subsciption Type\")\n",
    "plt.xticks(rotation=45)\n",
    "plt.tight_layout()\n",
    "plt.show();"
   ]
  },
  {
   "cell_type": "code",
   "execution_count": 29,
   "id": "7395a84c-197e-4775-bebf-a24db9cc46d3",
   "metadata": {},
   "outputs": [
    {
     "data": {
      "text/html": [
       "<div>\n",
       "<style scoped>\n",
       "    .dataframe tbody tr th:only-of-type {\n",
       "        vertical-align: middle;\n",
       "    }\n",
       "\n",
       "    .dataframe tbody tr th {\n",
       "        vertical-align: top;\n",
       "    }\n",
       "\n",
       "    .dataframe thead th {\n",
       "        text-align: right;\n",
       "    }\n",
       "</style>\n",
       "<table border=\"1\" class=\"dataframe\">\n",
       "  <thead>\n",
       "    <tr style=\"text-align: right;\">\n",
       "      <th>Contract Length</th>\n",
       "      <th>Annual</th>\n",
       "      <th>Monthly</th>\n",
       "      <th>Quarterly</th>\n",
       "    </tr>\n",
       "    <tr>\n",
       "      <th>Subscription Type</th>\n",
       "      <th></th>\n",
       "      <th></th>\n",
       "      <th></th>\n",
       "    </tr>\n",
       "  </thead>\n",
       "  <tbody>\n",
       "    <tr>\n",
       "      <th>Basic</th>\n",
       "      <td>7148</td>\n",
       "      <td>7373</td>\n",
       "      <td>6930</td>\n",
       "    </tr>\n",
       "    <tr>\n",
       "      <th>Premium</th>\n",
       "      <td>7075</td>\n",
       "      <td>7409</td>\n",
       "      <td>6937</td>\n",
       "    </tr>\n",
       "    <tr>\n",
       "      <th>Standard</th>\n",
       "      <td>7187</td>\n",
       "      <td>7348</td>\n",
       "      <td>6967</td>\n",
       "    </tr>\n",
       "  </tbody>\n",
       "</table>\n",
       "</div>"
      ],
      "text/plain": [
       "Contract Length    Annual  Monthly  Quarterly\n",
       "Subscription Type                            \n",
       "Basic                7148     7373       6930\n",
       "Premium              7075     7409       6937\n",
       "Standard             7187     7348       6967"
      ]
     },
     "execution_count": 29,
     "metadata": {},
     "output_type": "execute_result"
    }
   ],
   "source": [
    "cross"
   ]
  },
  {
   "cell_type": "code",
   "execution_count": 30,
   "id": "a5b0c809-c50b-4447-a1f9-b2f71ac85737",
   "metadata": {},
   "outputs": [
    {
     "data": {
      "text/html": [
       "<style type=\"text/css\">\n",
       "#T_3b0b2_row0_col0, #T_3b0b2_row1_col1, #T_3b0b2_row2_col2, #T_3b0b2_row3_col3, #T_3b0b2_row4_col4, #T_3b0b2_row5_col5, #T_3b0b2_row6_col6 {\n",
       "  background-color: #023858;\n",
       "  color: #f1f1f1;\n",
       "}\n",
       "#T_3b0b2_row0_col1, #T_3b0b2_row1_col0, #T_3b0b2_row2_col6, #T_3b0b2_row4_col6, #T_3b0b2_row5_col6, #T_3b0b2_row6_col2, #T_3b0b2_row6_col4, #T_3b0b2_row6_col5 {\n",
       "  background-color: #fbf3f9;\n",
       "  color: #000000;\n",
       "}\n",
       "#T_3b0b2_row0_col2, #T_3b0b2_row2_col0 {\n",
       "  background-color: #fff7fb;\n",
       "  color: #000000;\n",
       "}\n",
       "#T_3b0b2_row0_col3, #T_3b0b2_row1_col6, #T_3b0b2_row3_col0, #T_3b0b2_row6_col1 {\n",
       "  background-color: #f9f2f8;\n",
       "  color: #000000;\n",
       "}\n",
       "#T_3b0b2_row0_col4, #T_3b0b2_row2_col3, #T_3b0b2_row3_col2, #T_3b0b2_row4_col0 {\n",
       "  background-color: #fcf4fa;\n",
       "  color: #000000;\n",
       "}\n",
       "#T_3b0b2_row0_col5, #T_3b0b2_row1_col5, #T_3b0b2_row5_col0, #T_3b0b2_row5_col1 {\n",
       "  background-color: #f8f1f8;\n",
       "  color: #000000;\n",
       "}\n",
       "#T_3b0b2_row0_col6, #T_3b0b2_row2_col5, #T_3b0b2_row3_col6, #T_3b0b2_row5_col2, #T_3b0b2_row6_col0, #T_3b0b2_row6_col3 {\n",
       "  background-color: #faf2f8;\n",
       "  color: #000000;\n",
       "}\n",
       "#T_3b0b2_row1_col2, #T_3b0b2_row2_col1 {\n",
       "  background-color: #f6eff7;\n",
       "  color: #000000;\n",
       "}\n",
       "#T_3b0b2_row1_col3, #T_3b0b2_row3_col1 {\n",
       "  background-color: #f1ebf4;\n",
       "  color: #000000;\n",
       "}\n",
       "#T_3b0b2_row1_col4, #T_3b0b2_row4_col1 {\n",
       "  background-color: #f1ebf5;\n",
       "  color: #000000;\n",
       "}\n",
       "#T_3b0b2_row2_col4, #T_3b0b2_row4_col2 {\n",
       "  background-color: #f5eef6;\n",
       "  color: #000000;\n",
       "}\n",
       "#T_3b0b2_row3_col4, #T_3b0b2_row4_col3 {\n",
       "  background-color: #f0eaf4;\n",
       "  color: #000000;\n",
       "}\n",
       "#T_3b0b2_row3_col5, #T_3b0b2_row5_col3 {\n",
       "  background-color: #f7f0f7;\n",
       "  color: #000000;\n",
       "}\n",
       "#T_3b0b2_row4_col5, #T_3b0b2_row5_col4 {\n",
       "  background-color: #fef6fb;\n",
       "  color: #000000;\n",
       "}\n",
       "</style>\n",
       "<table id=\"T_3b0b2\">\n",
       "  <thead>\n",
       "    <tr>\n",
       "      <th class=\"blank level0\" >&nbsp;</th>\n",
       "      <th id=\"T_3b0b2_level0_col0\" class=\"col_heading level0 col0\" >Age</th>\n",
       "      <th id=\"T_3b0b2_level0_col1\" class=\"col_heading level0 col1\" >Tenure</th>\n",
       "      <th id=\"T_3b0b2_level0_col2\" class=\"col_heading level0 col2\" >Usage Frequency</th>\n",
       "      <th id=\"T_3b0b2_level0_col3\" class=\"col_heading level0 col3\" >Support Calls</th>\n",
       "      <th id=\"T_3b0b2_level0_col4\" class=\"col_heading level0 col4\" >Payment Delay</th>\n",
       "      <th id=\"T_3b0b2_level0_col5\" class=\"col_heading level0 col5\" >Total Spend</th>\n",
       "      <th id=\"T_3b0b2_level0_col6\" class=\"col_heading level0 col6\" >Last Interaction</th>\n",
       "    </tr>\n",
       "  </thead>\n",
       "  <tbody>\n",
       "    <tr>\n",
       "      <th id=\"T_3b0b2_level0_row0\" class=\"row_heading level0 row0\" >Age</th>\n",
       "      <td id=\"T_3b0b2_row0_col0\" class=\"data row0 col0\" >1.000000</td>\n",
       "      <td id=\"T_3b0b2_row0_col1\" class=\"data row0 col1\" >-0.007763</td>\n",
       "      <td id=\"T_3b0b2_row0_col2\" class=\"data row0 col2\" >-0.038331</td>\n",
       "      <td id=\"T_3b0b2_row0_col3\" class=\"data row0 col3\" >0.005014</td>\n",
       "      <td id=\"T_3b0b2_row0_col4\" class=\"data row0 col4\" >-0.016132</td>\n",
       "      <td id=\"T_3b0b2_row0_col5\" class=\"data row0 col5\" >0.006490</td>\n",
       "      <td id=\"T_3b0b2_row0_col6\" class=\"data row0 col6\" >-0.000148</td>\n",
       "    </tr>\n",
       "    <tr>\n",
       "      <th id=\"T_3b0b2_level0_row1\" class=\"row_heading level0 row1\" >Tenure</th>\n",
       "      <td id=\"T_3b0b2_row1_col0\" class=\"data row1 col0\" >-0.007763</td>\n",
       "      <td id=\"T_3b0b2_row1_col1\" class=\"data row1 col1\" >1.000000</td>\n",
       "      <td id=\"T_3b0b2_row1_col2\" class=\"data row1 col2\" >0.023485</td>\n",
       "      <td id=\"T_3b0b2_row1_col3\" class=\"data row1 col3\" >0.060065</td>\n",
       "      <td id=\"T_3b0b2_row1_col4\" class=\"data row1 col4\" >0.055963</td>\n",
       "      <td id=\"T_3b0b2_row1_col5\" class=\"data row1 col5\" >0.009474</td>\n",
       "      <td id=\"T_3b0b2_row1_col6\" class=\"data row1 col6\" >0.005770</td>\n",
       "    </tr>\n",
       "    <tr>\n",
       "      <th id=\"T_3b0b2_level0_row2\" class=\"row_heading level0 row2\" >Usage Frequency</th>\n",
       "      <td id=\"T_3b0b2_row2_col0\" class=\"data row2 col0\" >-0.038331</td>\n",
       "      <td id=\"T_3b0b2_row2_col1\" class=\"data row2 col1\" >0.023485</td>\n",
       "      <td id=\"T_3b0b2_row2_col2\" class=\"data row2 col2\" >1.000000</td>\n",
       "      <td id=\"T_3b0b2_row2_col3\" class=\"data row2 col3\" >-0.014072</td>\n",
       "      <td id=\"T_3b0b2_row2_col4\" class=\"data row2 col4\" >0.031132</td>\n",
       "      <td id=\"T_3b0b2_row2_col5\" class=\"data row2 col5\" >0.001527</td>\n",
       "      <td id=\"T_3b0b2_row2_col6\" class=\"data row2 col6\" >-0.009192</td>\n",
       "    </tr>\n",
       "    <tr>\n",
       "      <th id=\"T_3b0b2_level0_row3\" class=\"row_heading level0 row3\" >Support Calls</th>\n",
       "      <td id=\"T_3b0b2_row3_col0\" class=\"data row3 col0\" >0.005014</td>\n",
       "      <td id=\"T_3b0b2_row3_col1\" class=\"data row3 col1\" >0.060065</td>\n",
       "      <td id=\"T_3b0b2_row3_col2\" class=\"data row3 col2\" >-0.014072</td>\n",
       "      <td id=\"T_3b0b2_row3_col3\" class=\"data row3 col3\" >1.000000</td>\n",
       "      <td id=\"T_3b0b2_row3_col4\" class=\"data row3 col4\" >0.064298</td>\n",
       "      <td id=\"T_3b0b2_row3_col5\" class=\"data row3 col5\" >0.021750</td>\n",
       "      <td id=\"T_3b0b2_row3_col6\" class=\"data row3 col6\" >0.001666</td>\n",
       "    </tr>\n",
       "    <tr>\n",
       "      <th id=\"T_3b0b2_level0_row4\" class=\"row_heading level0 row4\" >Payment Delay</th>\n",
       "      <td id=\"T_3b0b2_row4_col0\" class=\"data row4 col0\" >-0.016132</td>\n",
       "      <td id=\"T_3b0b2_row4_col1\" class=\"data row4 col1\" >0.055963</td>\n",
       "      <td id=\"T_3b0b2_row4_col2\" class=\"data row4 col2\" >0.031132</td>\n",
       "      <td id=\"T_3b0b2_row4_col3\" class=\"data row4 col3\" >0.064298</td>\n",
       "      <td id=\"T_3b0b2_row4_col4\" class=\"data row4 col4\" >1.000000</td>\n",
       "      <td id=\"T_3b0b2_row4_col5\" class=\"data row4 col5\" >-0.031119</td>\n",
       "      <td id=\"T_3b0b2_row4_col6\" class=\"data row4 col6\" >-0.008076</td>\n",
       "    </tr>\n",
       "    <tr>\n",
       "      <th id=\"T_3b0b2_level0_row5\" class=\"row_heading level0 row5\" >Total Spend</th>\n",
       "      <td id=\"T_3b0b2_row5_col0\" class=\"data row5 col0\" >0.006490</td>\n",
       "      <td id=\"T_3b0b2_row5_col1\" class=\"data row5 col1\" >0.009474</td>\n",
       "      <td id=\"T_3b0b2_row5_col2\" class=\"data row5 col2\" >0.001527</td>\n",
       "      <td id=\"T_3b0b2_row5_col3\" class=\"data row5 col3\" >0.021750</td>\n",
       "      <td id=\"T_3b0b2_row5_col4\" class=\"data row5 col4\" >-0.031119</td>\n",
       "      <td id=\"T_3b0b2_row5_col5\" class=\"data row5 col5\" >1.000000</td>\n",
       "      <td id=\"T_3b0b2_row5_col6\" class=\"data row5 col6\" >-0.007692</td>\n",
       "    </tr>\n",
       "    <tr>\n",
       "      <th id=\"T_3b0b2_level0_row6\" class=\"row_heading level0 row6\" >Last Interaction</th>\n",
       "      <td id=\"T_3b0b2_row6_col0\" class=\"data row6 col0\" >-0.000148</td>\n",
       "      <td id=\"T_3b0b2_row6_col1\" class=\"data row6 col1\" >0.005770</td>\n",
       "      <td id=\"T_3b0b2_row6_col2\" class=\"data row6 col2\" >-0.009192</td>\n",
       "      <td id=\"T_3b0b2_row6_col3\" class=\"data row6 col3\" >0.001666</td>\n",
       "      <td id=\"T_3b0b2_row6_col4\" class=\"data row6 col4\" >-0.008076</td>\n",
       "      <td id=\"T_3b0b2_row6_col5\" class=\"data row6 col5\" >-0.007692</td>\n",
       "      <td id=\"T_3b0b2_row6_col6\" class=\"data row6 col6\" >1.000000</td>\n",
       "    </tr>\n",
       "  </tbody>\n",
       "</table>\n"
      ],
      "text/plain": [
       "<pandas.io.formats.style.Styler at 0x245f22ab4d0>"
      ]
     },
     "execution_count": 30,
     "metadata": {},
     "output_type": "execute_result"
    }
   ],
   "source": [
    "# display correlation matrix using pandas\n",
    "corr = df.select_dtypes(\"number\").drop(columns=\"Churn\").corr()\n",
    "corr.style.background_gradient(axis=None)"
   ]
  },
  {
   "cell_type": "markdown",
   "id": "f5838758-bd72-4776-b601-9ba46bba5620",
   "metadata": {},
   "source": [
    "#### Insight from Correlation Matrix:\n",
    "The correlation matrix shows weak correlations among the features, indicating a low risk of multicollinearity within the feature matrix."
   ]
  },
  {
   "cell_type": "code",
   "execution_count": 32,
   "id": "6bb1dc4e-6f33-44f2-8aac-5d5a7d42e2f7",
   "metadata": {},
   "outputs": [
    {
     "data": {
      "text/html": [
       "<div>\n",
       "<style scoped>\n",
       "    .dataframe tbody tr th:only-of-type {\n",
       "        vertical-align: middle;\n",
       "    }\n",
       "\n",
       "    .dataframe tbody tr th {\n",
       "        vertical-align: top;\n",
       "    }\n",
       "\n",
       "    .dataframe thead th {\n",
       "        text-align: right;\n",
       "    }\n",
       "</style>\n",
       "<table border=\"1\" class=\"dataframe\">\n",
       "  <thead>\n",
       "    <tr style=\"text-align: right;\">\n",
       "      <th></th>\n",
       "      <th>Age</th>\n",
       "      <th>Gender</th>\n",
       "      <th>Tenure</th>\n",
       "      <th>Usage Frequency</th>\n",
       "      <th>Support Calls</th>\n",
       "      <th>Payment Delay</th>\n",
       "      <th>Subscription Type</th>\n",
       "      <th>Contract Length</th>\n",
       "      <th>Total Spend</th>\n",
       "      <th>Last Interaction</th>\n",
       "      <th>Churn</th>\n",
       "      <th>AgeGroup</th>\n",
       "      <th>UsageFreq_Group</th>\n",
       "    </tr>\n",
       "    <tr>\n",
       "      <th>CustomerID</th>\n",
       "      <th></th>\n",
       "      <th></th>\n",
       "      <th></th>\n",
       "      <th></th>\n",
       "      <th></th>\n",
       "      <th></th>\n",
       "      <th></th>\n",
       "      <th></th>\n",
       "      <th></th>\n",
       "      <th></th>\n",
       "      <th></th>\n",
       "      <th></th>\n",
       "      <th></th>\n",
       "    </tr>\n",
       "  </thead>\n",
       "  <tbody>\n",
       "    <tr>\n",
       "      <th>1</th>\n",
       "      <td>22</td>\n",
       "      <td>Female</td>\n",
       "      <td>25</td>\n",
       "      <td>14</td>\n",
       "      <td>4</td>\n",
       "      <td>27</td>\n",
       "      <td>Basic</td>\n",
       "      <td>Monthly</td>\n",
       "      <td>598</td>\n",
       "      <td>9</td>\n",
       "      <td>1</td>\n",
       "      <td>18-25</td>\n",
       "      <td>11-15</td>\n",
       "    </tr>\n",
       "    <tr>\n",
       "      <th>2</th>\n",
       "      <td>41</td>\n",
       "      <td>Female</td>\n",
       "      <td>28</td>\n",
       "      <td>28</td>\n",
       "      <td>7</td>\n",
       "      <td>13</td>\n",
       "      <td>Standard</td>\n",
       "      <td>Monthly</td>\n",
       "      <td>584</td>\n",
       "      <td>20</td>\n",
       "      <td>0</td>\n",
       "      <td>36-45</td>\n",
       "      <td>26-30</td>\n",
       "    </tr>\n",
       "  </tbody>\n",
       "</table>\n",
       "</div>"
      ],
      "text/plain": [
       "            Age  Gender  Tenure  Usage Frequency  Support Calls  \\\n",
       "CustomerID                                                        \n",
       "1            22  Female      25               14              4   \n",
       "2            41  Female      28               28              7   \n",
       "\n",
       "            Payment Delay Subscription Type Contract Length  Total Spend  \\\n",
       "CustomerID                                                                 \n",
       "1                      27             Basic         Monthly          598   \n",
       "2                      13          Standard         Monthly          584   \n",
       "\n",
       "            Last Interaction  Churn AgeGroup UsageFreq_Group  \n",
       "CustomerID                                                    \n",
       "1                          9      1    18-25           11-15  \n",
       "2                         20      0    36-45           26-30  "
      ]
     },
     "execution_count": 32,
     "metadata": {},
     "output_type": "execute_result"
    }
   ],
   "source": [
    "df.head(2)"
   ]
  },
  {
   "cell_type": "code",
   "execution_count": 35,
   "id": "f3ef41c9-693a-4e86-9cd8-b7c402739f71",
   "metadata": {},
   "outputs": [
    {
     "data": {
      "text/plain": [
       "Usage Frequency       77.730144\n",
       "Payment Delay         78.361641\n",
       "Age                  193.903155\n",
       "Tenure               292.349607\n",
       "Total Spend        68055.665975\n",
       "dtype: float64"
      ]
     },
     "execution_count": 35,
     "metadata": {},
     "output_type": "execute_result"
    }
   ],
   "source": [
    "df.select_dtypes(\"number\").var().sort_values().tail()"
   ]
  },
  {
   "cell_type": "markdown",
   "id": "70b990c3-9e76-4cdd-b1a9-fabffe713918",
   "metadata": {},
   "source": [
    "### Split Dataset"
   ]
  },
  {
   "cell_type": "code",
   "execution_count": 6,
   "id": "867b9073-8a10-49ca-b787-98d02364c431",
   "metadata": {},
   "outputs": [
    {
     "name": "stdin",
     "output_type": "stream",
     "text": [
      "Enter any number: 2\n",
      "Enter any number: 3\n",
      "Enter any number: 5\n"
     ]
    },
    {
     "name": "stdout",
     "output_type": "stream",
     "text": [
      "10\n",
      "30\n"
     ]
    }
   ],
   "source": [
    "# Finding the addition and multiplication of 3 numbers\n",
    "num1 = int(input(\"Enter any number:\"))\n",
    "num2 = int(input(\"Enter any number:\"))\n",
    "num3 = int(input(\"Enter any number:\"))\n",
    "\n",
    "sum_of_num = num1+num2+num3\n",
    "multiple_of_num = num1*num2*num3\n",
    "\n",
    "print(sum_of_num)\n",
    "print(multiple_of_num)"
   ]
  },
  {
   "cell_type": "code",
   "execution_count": 7,
   "id": "66ea48fc-e797-4f37-a03f-e46a08f9858d",
   "metadata": {},
   "outputs": [
    {
     "name": "stdin",
     "output_type": "stream",
     "text": [
      "Your name:  Nonso\n",
      "Your Regno:  2024654077\n"
     ]
    },
    {
     "name": "stdout",
     "output_type": "stream",
     "text": [
      "My name is Nonso and my reg number is 2024654077\n"
     ]
    }
   ],
   "source": [
    "my_name = str(input(\"Your name: \"))\n",
    "my_Regno = int(input(\"Your Regno: \"))\n",
    "\n",
    "print(f\"My name is {my_name } and my reg number is {my_Regno}\")"
   ]
  },
  {
   "cell_type": "code",
   "execution_count": 8,
   "id": "c9b9cfe5-c485-480c-87ad-d6bd40a7322f",
   "metadata": {},
   "outputs": [
    {
     "name": "stdin",
     "output_type": "stream",
     "text": [
      "Enter a number:  2\n"
     ]
    },
    {
     "ename": "TypeError",
     "evalue": "'int' object is not iterable",
     "output_type": "error",
     "traceback": [
      "\u001b[31m---------------------------------------------------------------------------\u001b[39m",
      "\u001b[31mTypeError\u001b[39m                                 Traceback (most recent call last)",
      "\u001b[36mCell\u001b[39m\u001b[36m \u001b[39m\u001b[32mIn[8]\u001b[39m\u001b[32m, line 11\u001b[39m\n\u001b[32m      1\u001b[39m \u001b[38;5;66;03m# num1 = int(2)\u001b[39;00m\n\u001b[32m      2\u001b[39m \u001b[38;5;66;03m# num2 = int(4)\u001b[39;00m\n\u001b[32m      3\u001b[39m \u001b[38;5;66;03m# num3 = int(5)\u001b[39;00m\n\u001b[32m   (...)\u001b[39m\u001b[32m      7\u001b[39m \u001b[38;5;66;03m# elif num1:\u001b[39;00m\n\u001b[32m      8\u001b[39m \u001b[38;5;66;03m#     print(\"It's not\")\u001b[39;00m\n\u001b[32m     10\u001b[39m num = \u001b[38;5;28mint\u001b[39m(\u001b[38;5;28minput\u001b[39m(\u001b[33m\"\u001b[39m\u001b[33mEnter a number: \u001b[39m\u001b[33m\"\u001b[39m))\n\u001b[32m---> \u001b[39m\u001b[32m11\u001b[39m my_list = \u001b[38;5;28;43mlist\u001b[39;49m\u001b[43m(\u001b[49m\u001b[43mnum\u001b[49m\u001b[43m)\u001b[49m\n\u001b[32m     13\u001b[39m \u001b[38;5;28;01mfor\u001b[39;00m i \u001b[38;5;129;01min\u001b[39;00m my_list:\n\u001b[32m     14\u001b[39m     \u001b[38;5;28mprint\u001b[39m(i)\n",
      "\u001b[31mTypeError\u001b[39m: 'int' object is not iterable"
     ]
    }
   ],
   "source": [
    "# num1 = int(2)\n",
    "# num2 = int(4)\n",
    "# num3 = int(5)\n",
    "\n",
    "# if num1>num2:\n",
    "#     print(\"It is\")\n",
    "# elif num1:\n",
    "#     print(\"It's not\")\n",
    "\n",
    "num = int(input(\"Enter a number: \"))\n",
    "my_list = list(num)\n",
    "\n",
    "for i in my_list:\n",
    "    print(i)"
   ]
  },
  {
   "cell_type": "code",
   "execution_count": null,
   "id": "87c2e8a7-699d-40cd-863e-06aeb0d63f91",
   "metadata": {},
   "outputs": [],
   "source": []
  },
  {
   "cell_type": "code",
   "execution_count": null,
   "id": "0d2d4510-abab-464a-a380-8129628ee60f",
   "metadata": {},
   "outputs": [],
   "source": []
  }
 ],
 "metadata": {
  "kernelspec": {
   "display_name": "Python 3 (ipykernel)",
   "language": "python",
   "name": "python3"
  },
  "language_info": {
   "codemirror_mode": {
    "name": "ipython",
    "version": 3
   },
   "file_extension": ".py",
   "mimetype": "text/x-python",
   "name": "python",
   "nbconvert_exporter": "python",
   "pygments_lexer": "ipython3",
   "version": "3.11.0"
  }
 },
 "nbformat": 4,
 "nbformat_minor": 5
}
